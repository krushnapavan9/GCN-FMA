{
  "nbformat": 4,
  "nbformat_minor": 0,
  "metadata": {
    "colab": {
      "name": "Graph convolution network_FMA_fullv1.ipynb",
      "provenance": [],
      "collapsed_sections": [],
      "authorship_tag": "ABX9TyPe3un1IaNuUibapyGzwvdx",
      "include_colab_link": true
    },
    "kernelspec": {
      "name": "python3",
      "display_name": "Python 3"
    }
  },
  "cells": [
    {
      "cell_type": "markdown",
      "metadata": {
        "id": "view-in-github",
        "colab_type": "text"
      },
      "source": [
        "<a href=\"https://colab.research.google.com/github/krushnapavan9/GCN-FMA/blob/main/Graph_convolution_network_FMA_fullv1.ipynb\" target=\"_parent\"><img src=\"https://colab.research.google.com/assets/colab-badge.svg\" alt=\"Open In Colab\"/></a>"
      ]
    },
    {
      "cell_type": "code",
      "metadata": {
        "id": "SPaMOQ6uUaiE"
      },
      "source": [
        "#importing dependencies\n",
        "%%capture\n",
        "!pip install spektral\n",
        "import numpy as np\n",
        "import os\n",
        "import networkx as nx\n",
        "from keras.utils import to_categorical\n",
        "from sklearn.preprocessing import LabelEncoder\n",
        "from sklearn.utils import shuffle\n",
        "from sklearn.metrics import classification_report\n",
        "\n",
        "from spektral.layers import GCNConv\n",
        "\n",
        "from tensorflow.keras.models import Model\n",
        "from tensorflow.keras.layers import Input, Dropout, Dense\n",
        "from tensorflow.keras import Sequential\n",
        "from tensorflow.keras.optimizers import Adam\n",
        "from tensorflow.keras.callbacks import TensorBoard, EarlyStopping\n",
        "import tensorflow as tf\n",
        "from tensorflow.keras.regularizers import l2\n",
        "\n",
        "from collections import Counter\n",
        "from sklearn.manifold import TSNE\n",
        "import matplotlib.pyplot as plt"
      ],
      "execution_count": 1,
      "outputs": []
    },
    {
      "cell_type": "code",
      "metadata": {
        "colab": {
          "base_uri": "https://localhost:8080/"
        },
        "id": "xxA2trhJFKfE",
        "outputId": "21d8ffed-16c4-42f8-e75e-794ed2a6f4b1"
      },
      "source": [
        "from google.colab import drive\n",
        "drive.mount('/content/drive')"
      ],
      "execution_count": 2,
      "outputs": [
        {
          "output_type": "stream",
          "text": [
            "Drive already mounted at /content/drive; to attempt to forcibly remount, call drive.mount(\"/content/drive\", force_remount=True).\n"
          ],
          "name": "stdout"
        }
      ]
    },
    {
      "cell_type": "code",
      "metadata": {
        "id": "sjeGdF9jJrth"
      },
      "source": [
        "import networkx as nx"
      ],
      "execution_count": 3,
      "outputs": []
    },
    {
      "cell_type": "code",
      "metadata": {
        "id": "2tG79GMCFRwb"
      },
      "source": [
        "import pydot\n",
        "import requests\n",
        "import numpy as np\n",
        "import pandas as pd\n",
        "import ast\n",
        "from pandas.api.types import CategoricalDtype\n",
        "\n",
        "def load(filepath):\n",
        "  if 'features' in filepath:\n",
        "    return pd.read_csv(filepath, index_col=0, header=[0, 1, 2])\n",
        "  if 'tracks' in filepath:\n",
        "    tracks = pd.read_csv('/content/drive/MyDrive/CS685 data mining/Dataset/fma_metadata/tracks.csv', index_col=0, header=[0, 1])\n",
        "\n",
        "    COLUMNS = [('track', 'tags'), ('album', 'tags'), ('artist', 'tags'),('track', 'genres'), ('track', 'genres_all')]\n",
        "    for column in COLUMNS:\n",
        "        tracks[column] = tracks[column].map(ast.literal_eval)\n",
        "\n",
        "    COLUMNS = [('track', 'date_created'), ('track', 'date_recorded'),\n",
        "                ('album', 'date_created'), ('album', 'date_released'),\n",
        "                ('artist', 'date_created'), ('artist', 'active_year_begin'),\n",
        "                ('artist', 'active_year_end')]\n",
        "    for column in COLUMNS:\n",
        "        tracks[column] = pd.to_datetime(tracks[column])\n",
        "\n",
        "    SUBSETS = ('small', 'medium', 'large')\n",
        "    cat_type = CategoricalDtype(categories=SUBSETS, ordered=True)\n",
        "    try:\n",
        "        tracks['set', 'subset'] = tracks['set', 'subset'].astype(cat_type)\n",
        "    except ValueError:\n",
        "        # the categories and ordered arguments were removed in pandas 0.25\n",
        "        tracks['set', 'subset'] = tracks['set', 'subset'].astype(pd.CategoricalDtype(categories=SUBSETS, ordered=True))\n",
        "\n",
        "    COLUMNS = [('track', 'genre_top'), ('track', 'license'),\n",
        "                ('album', 'type'), ('album', 'information'),\n",
        "                ('artist', 'bio')]\n",
        "    for column in COLUMNS:\n",
        "        tracks[column] = tracks[column].astype('category')\n",
        "\n",
        "    return tracks\n",
        "  \n",
        "def subset_data(features,tracks,subset='small'):\n",
        "  bool_subset = tracks['set', 'subset'] <= subset\n",
        "  features = features.loc[bool_subset, :]\n",
        "  tracks = tracks.loc[bool_subset, :]\n",
        "  # tracks = tracks.loc[bool_subset, ('track', 'genre_top')]\n",
        "  return features,tracks"
      ],
      "execution_count": 4,
      "outputs": []
    },
    {
      "cell_type": "code",
      "metadata": {
        "colab": {
          "base_uri": "https://localhost:8080/"
        },
        "id": "pR6LGCzZFfAP",
        "outputId": "37690800-275b-4f12-df09-3ae8e31ea4c8"
      },
      "source": [
        "data_dir_path = '/content/drive/MyDrive/CS685 data mining/Dataset/fma_metadata/'\n",
        "features_data = load(data_dir_path+'features.csv')\n",
        "tracks_data = load(data_dir_path+'tracks.csv')\n",
        "print('features_data\\n',features_data.head(),features_data.shape)\n",
        "print('tracks_data\\n',tracks_data.head(),tracks_data.shape)\n",
        "print('features_data first column',features_data.head().iloc[:,0])\n"
      ],
      "execution_count": 5,
      "outputs": [
        {
          "output_type": "stream",
          "text": [
            "features_data\n",
            " feature    chroma_cens                      ...       zcr                    \n",
            "statistics    kurtosis                      ...       min      skew       std\n",
            "number              01        02        03  ...        01        01        01\n",
            "track_id                                    ...                              \n",
            "2             7.180653  5.230309  0.249321  ...  0.000000  2.089872  0.061448\n",
            "3             1.888963  0.760539  0.345297  ...  0.000000  1.716724  0.069330\n",
            "5             0.527563 -0.077654 -0.279610  ...  0.000000  2.193303  0.044861\n",
            "10            3.702245 -0.291193  2.196742  ...  0.000000  3.542325  0.040800\n",
            "20           -0.193837 -0.198527  0.201546  ...  0.000977  3.189831  0.030993\n",
            "\n",
            "[5 rows x 518 columns] (106574, 518)\n",
            "tracks_data\n",
            "             album                      ... track                 \n",
            "         comments        date_created  ...  tags            title\n",
            "track_id                               ...                       \n",
            "2               0 2008-11-26 01:44:45  ...    []             Food\n",
            "3               0 2008-11-26 01:44:45  ...    []     Electric Ave\n",
            "5               0 2008-11-26 01:44:45  ...    []       This World\n",
            "10              0 2008-11-26 01:45:08  ...    []          Freeway\n",
            "20              0 2008-11-26 01:45:05  ...    []  Spiritual Level\n",
            "\n",
            "[5 rows x 52 columns] (106574, 52)\n",
            "features_data first column track_id\n",
            "2     7.180653\n",
            "3     1.888963\n",
            "5     0.527563\n",
            "10    3.702245\n",
            "20   -0.193837\n",
            "Name: (chroma_cens, kurtosis, 01), dtype: float64\n"
          ],
          "name": "stdout"
        }
      ]
    },
    {
      "cell_type": "code",
      "metadata": {
        "id": "C6h7Oqj3GnVn"
      },
      "source": [
        "features_subset,tracks_subset = subset_data(features_data,tracks_data,subset='small')\n",
        "np.testing.assert_array_equal(features_subset.index, tracks_subset.index)\n",
        "X  = np.array(features_subset.values)\n",
        "Y = np.array(tracks_subset.loc[:,('track', 'genre_top')].values)"
      ],
      "execution_count": 6,
      "outputs": []
    },
    {
      "cell_type": "code",
      "metadata": {
        "id": "AujswWcFnJM0"
      },
      "source": [
        "from sklearn.preprocessing import StandardScaler\n",
        "X = StandardScaler().fit_transform(X)\n",
        "from sklearn.decomposition import KernelPCA\n",
        "kpca=KernelPCA(n_components=187)\n",
        "X=kpca.fit_transform(X)"
      ],
      "execution_count": 7,
      "outputs": []
    },
    {
      "cell_type": "code",
      "metadata": {
        "id": "otY-XLIuFram"
      },
      "source": [
        "from scipy import spatial\n",
        "\n",
        "def knn(X,from_inds ,to_inds):\n",
        "  edges = []\n",
        "  K = 100\n",
        "  for a in from_inds:\n",
        "    all_similarity = []\n",
        "    for b in to_inds:\n",
        "      # print(X.loc[a].shape,type(X.loc[a].values))\n",
        "      # return\n",
        "      all_similarity.append((b,1-spatial.distance.cosine(X[a,:],X[b,:])))\n",
        "    all_similarity.sort(key = lambda x: x[1],reverse = True)\n",
        "    for v2,_ in all_similarity[:K]:\n",
        "      edges.append((a,v2))\n",
        "  return edges\n",
        "\n",
        "\n",
        "def construct_graph(X,Y):\n",
        "  G = nx.Graph()\n",
        "  genre_ind = dict()\n",
        "  \n",
        "  for i,genre in enumerate(Y):\n",
        "    genre_ind.setdefault(genre,[]).append(i)\n",
        "  \n",
        "  for ind in range(X.shape[0]):\n",
        "    G.add_node(ind)\n",
        "    \n",
        "  sorted_genre = sorted(genre_ind.keys())\n",
        "  for i in range(len(sorted_genre)):\n",
        "    for j in range(i+1,len(sorted_genre)):\n",
        "      print(sorted_genre[i],sorted_genre[j])\n",
        "      edges = knn(X,genre_ind[sorted_genre[i]],genre_ind[sorted_genre[j]])\n",
        "      for v1,v2 in edges:\n",
        "        G.add_edge(v1,v2)\n",
        "  \n",
        "  for genre, genre_ind in genre_ind.items():\n",
        "    for ind1 in genre_ind:\n",
        "      for ind2 in genre_ind:\n",
        "        if ind1!=ind2:\n",
        "          G.add_edge(ind1,ind2)\n",
        "\n",
        "  \n",
        "  return G\n",
        "  "
      ],
      "execution_count": 8,
      "outputs": []
    },
    {
      "cell_type": "code",
      "metadata": {
        "colab": {
          "base_uri": "https://localhost:8080/"
        },
        "id": "tSiibBJUHfDG",
        "outputId": "fa98f1c0-50fa-42fc-b8f4-eb85cd7e068e"
      },
      "source": [
        "%%time\n",
        "G = construct_graph(X,Y)"
      ],
      "execution_count": 9,
      "outputs": [
        {
          "output_type": "stream",
          "text": [
            "Electronic Experimental\n",
            "Electronic Folk\n",
            "Electronic Hip-Hop\n",
            "Electronic Instrumental\n",
            "Electronic International\n",
            "Electronic Pop\n",
            "Electronic Rock\n",
            "Experimental Hip-Hop\n",
            "Experimental Instrumental\n",
            "Experimental International\n",
            "Experimental Pop\n",
            "Experimental Rock\n",
            "Folk Hip-Hop\n",
            "Folk Instrumental\n",
            "Folk International\n",
            "Folk Pop\n",
            "Folk Rock\n",
            "Hip-Hop Instrumental\n",
            "Hip-Hop International\n",
            "Hip-Hop Pop\n",
            "Hip-Hop Rock\n",
            "Instrumental International\n",
            "Instrumental Pop\n",
            "Instrumental Rock\n",
            "International Pop\n",
            "International Rock\n",
            "Pop Rock\n",
            "CPU times: user 17min 40s, sys: 2.41 s, total: 17min 42s\n",
            "Wall time: 17min 43s\n"
          ],
          "name": "stdout"
        }
      ]
    },
    {
      "cell_type": "code",
      "metadata": {
        "id": "aU6qu8O2Paph"
      },
      "source": [
        "G_copy = G.copy()"
      ],
      "execution_count": 10,
      "outputs": []
    },
    {
      "cell_type": "code",
      "metadata": {
        "id": "Ov_eVyq6Jo8v"
      },
      "source": [
        "from sklearn.model_selection import train_test_split\n",
        "from collections import Counter\n",
        "import random\n",
        "\n",
        "def split_index(X,Y,train_size=0.05,test_size = 0.7,valid_size = 0.25):\n",
        "  genre_ind = dict()\n",
        "  for i,genre in enumerate(Y):\n",
        "    genre_ind.setdefault(genre,[]).append(i)\n",
        "  train = []\n",
        "  valid = []\n",
        "  test = []\n",
        "  for gen,ind in genre_ind.items():\n",
        "    random.shuffle(ind)\n",
        "    train_temp = ind[:int(len(ind)*train_size)]\n",
        "    val_temp =  ind[int(len(ind)*train_size):int(len(ind)*(train_size+valid_size))]\n",
        "    test_temp = ind[int(len(ind)*(train_size+valid_size)):]\n",
        "    \n",
        "    train += train_temp\n",
        "    valid += val_temp\n",
        "    test += test_temp\n",
        "  train_split = np.zeros(X.shape[0], dtype=bool)\n",
        "  test_split = np.zeros(X.shape[0], dtype=bool)\n",
        "  val_split = np.zeros(X.shape[0], dtype=bool)\n",
        "  print(\"Training Data Distribution: \\n{}\".format(Counter([Y[i] for i in train])))\n",
        "  print(\"Validation Data Distribution: \\n{}\".format(Counter([Y[i] for i in valid])))\n",
        "  print(\"test Data Distribution: \\n{}\".format(Counter([Y[i] for i in test])))\n",
        "  for i in train:\n",
        "    train_split[i] = True\n",
        "  for i in valid:\n",
        "    val_split[i] = True\n",
        "  for i in test:\n",
        "    test_split[i] = True\n",
        "  return train_split,val_split,test_split"
      ],
      "execution_count": 11,
      "outputs": []
    },
    {
      "cell_type": "code",
      "metadata": {
        "colab": {
          "base_uri": "https://localhost:8080/"
        },
        "id": "XEYzFR1jOxWg",
        "outputId": "a369cb14-a53b-4fd2-a4c0-4fd9c7be34ce"
      },
      "source": [
        "train_mask,val_mask,test_mask= split_index(X,Y)"
      ],
      "execution_count": 12,
      "outputs": [
        {
          "output_type": "stream",
          "text": [
            "Training Data Distribution: \n",
            "Counter({'Hip-Hop': 50, 'Pop': 50, 'Folk': 50, 'Experimental': 50, 'Rock': 50, 'International': 50, 'Electronic': 50, 'Instrumental': 50})\n",
            "Validation Data Distribution: \n",
            "Counter({'Hip-Hop': 250, 'Pop': 250, 'Folk': 250, 'Experimental': 250, 'Rock': 250, 'International': 250, 'Electronic': 250, 'Instrumental': 250})\n",
            "test Data Distribution: \n",
            "Counter({'Hip-Hop': 700, 'Pop': 700, 'Folk': 700, 'Experimental': 700, 'Rock': 700, 'International': 700, 'Electronic': 700, 'Instrumental': 700})\n"
          ],
          "name": "stdout"
        }
      ]
    },
    {
      "cell_type": "code",
      "metadata": {
        "id": "Dcs5ShJER2zp"
      },
      "source": [
        "A = nx.adjacency_matrix(G)"
      ],
      "execution_count": 13,
      "outputs": []
    },
    {
      "cell_type": "code",
      "metadata": {
        "colab": {
          "base_uri": "https://localhost:8080/"
        },
        "id": "bAPtBjO7iKwa",
        "outputId": "d7bb0e34-336c-4309-980d-c90ba8a57786"
      },
      "source": [
        "print('Graph info: ', nx.info(G))"
      ],
      "execution_count": 14,
      "outputs": [
        {
          "output_type": "stream",
          "text": [
            "Graph info:  Name: \n",
            "Type: Graph\n",
            "Number of nodes: 8000\n",
            "Number of edges: 6796000\n",
            "Average degree: 1699.0000\n"
          ],
          "name": "stdout"
        }
      ]
    },
    {
      "cell_type": "code",
      "metadata": {
        "id": "25QiwliLRRXL"
      },
      "source": [
        "from sklearn.preprocessing import LabelEncoder\n",
        "from keras.utils import to_categorical\n",
        "\n",
        "def encode_label(labels):\n",
        "    label_encoder = LabelEncoder()\n",
        "    labels = label_encoder.fit_transform(labels)\n",
        "    labels = to_categorical(labels)\n",
        "    return labels, label_encoder.classes_"
      ],
      "execution_count": 15,
      "outputs": []
    },
    {
      "cell_type": "code",
      "metadata": {
        "id": "MZmdgGEuPwRh"
      },
      "source": [
        "labels_encoded, classes = encode_label(Y)"
      ],
      "execution_count": 16,
      "outputs": []
    },
    {
      "cell_type": "code",
      "metadata": {
        "id": "YUdatewZRTfL"
      },
      "source": [
        "N = X.shape[0] #the number of nodes\n",
        "F = X.shape[1] #the size of node features\n",
        "num_classes = 8"
      ],
      "execution_count": 17,
      "outputs": []
    },
    {
      "cell_type": "code",
      "metadata": {
        "id": "ECP8jxGPmd4X",
        "colab": {
          "base_uri": "https://localhost:8080/"
        },
        "outputId": "867812df-6c8c-41b2-e7f1-48c0c0cce5b2"
      },
      "source": [
        "# Parameters\n",
        "channels = 16           # Number of channels in the first layer\n",
        "dropout = 0.5           # Dropout rate for the features\n",
        "l2_reg = 5e-4           # L2 regularization rate\n",
        "learning_rate = 1e-2    # Learning rate\n",
        "epochs = 25          # Number of training epochs\n",
        "es_patience = 10        # Patience for early stopping\n",
        "\n",
        "# Preprocessing operations\n",
        "A = GCNConv.preprocess(A).astype('f4')\n",
        "\n",
        "# Model definition\n",
        "X_in = Input(shape=(F, ))\n",
        "fltr_in = Input((N, ), sparse=True)\n",
        "\n",
        "dropout_1 = Dropout(dropout)(X_in)\n",
        "graph_conv_1 = GCNConv(channels,\n",
        "                         activation='relu',\n",
        "                         kernel_regularizer=l2(l2_reg),\n",
        "                         use_bias=False)([dropout_1, fltr_in])\n",
        "\n",
        "dropout_2 = Dropout(dropout)(graph_conv_1)\n",
        "graph_conv_2 = GCNConv(num_classes,\n",
        "                         activation='softmax',\n",
        "                         use_bias=False)([dropout_2, fltr_in])\n",
        "\n",
        "# Build model\n",
        "model = Model(inputs=[X_in, fltr_in], outputs=graph_conv_2)\n",
        "optimizer = Adam(lr=learning_rate)\n",
        "model.compile(optimizer=optimizer,\n",
        "              loss='categorical_crossentropy',\n",
        "              weighted_metrics=['acc'])\n",
        "model.summary()\n",
        "\n",
        "tbCallBack_GCN = tf.keras.callbacks.TensorBoard(\n",
        "    log_dir='./Tensorboard_GCN_cora',\n",
        ")\n",
        "callback_GCN = [tbCallBack_GCN]"
      ],
      "execution_count": 23,
      "outputs": [
        {
          "output_type": "stream",
          "text": [
            "Model: \"functional_5\"\n",
            "__________________________________________________________________________________________________\n",
            "Layer (type)                    Output Shape         Param #     Connected to                     \n",
            "==================================================================================================\n",
            "input_3 (InputLayer)            [(None, 187)]        0                                            \n",
            "__________________________________________________________________________________________________\n",
            "dropout_2 (Dropout)             (None, 187)          0           input_3[0][0]                    \n",
            "__________________________________________________________________________________________________\n",
            "input_4 (InputLayer)            [(None, 8000)]       0                                            \n",
            "__________________________________________________________________________________________________\n",
            "gcn_conv_2 (GCNConv)            (None, 16)           2992        dropout_2[0][0]                  \n",
            "                                                                 input_4[0][0]                    \n",
            "__________________________________________________________________________________________________\n",
            "dropout_3 (Dropout)             (None, 16)           0           gcn_conv_2[0][0]                 \n",
            "__________________________________________________________________________________________________\n",
            "gcn_conv_3 (GCNConv)            (None, 8)            128         dropout_3[0][0]                  \n",
            "                                                                 input_4[0][0]                    \n",
            "==================================================================================================\n",
            "Total params: 3,120\n",
            "Trainable params: 3,120\n",
            "Non-trainable params: 0\n",
            "__________________________________________________________________________________________________\n"
          ],
          "name": "stdout"
        }
      ]
    },
    {
      "cell_type": "code",
      "metadata": {
        "id": "LJ35p2NSmoIe",
        "colab": {
          "base_uri": "https://localhost:8080/"
        },
        "outputId": "f3a2c9eb-f68d-464b-d5b5-234c4c0e1ffd"
      },
      "source": [
        "#Train model\n",
        "%%time\n",
        "validation_data = ([X, A], labels_encoded, val_mask)\n",
        "model.fit([X, A],\n",
        "          labels_encoded,\n",
        "          sample_weight=train_mask,\n",
        "          epochs=epochs,\n",
        "          batch_size=N,\n",
        "          validation_data=validation_data,\n",
        "          shuffle=False,\n",
        "          callbacks=[\n",
        "              EarlyStopping(patience=es_patience,  restore_best_weights=True),\n",
        "              tbCallBack_GCN\n",
        "          ])\n"
      ],
      "execution_count": 24,
      "outputs": [
        {
          "output_type": "stream",
          "text": [
            "Epoch 1/25\n",
            "1/1 [==============================] - 2s 2s/step - loss: 0.1562 - acc: 0.0950 - val_loss: 0.5827 - val_acc: 0.0925\n",
            "Epoch 2/25\n",
            "1/1 [==============================] - 0s 495ms/step - loss: 0.1408 - acc: 0.1300 - val_loss: 0.5476 - val_acc: 0.1210\n",
            "Epoch 3/25\n",
            "1/1 [==============================] - 0s 474ms/step - loss: 0.1315 - acc: 0.1425 - val_loss: 0.5174 - val_acc: 0.1720\n",
            "Epoch 4/25\n",
            "1/1 [==============================] - 0s 482ms/step - loss: 0.1248 - acc: 0.1550 - val_loss: 0.4920 - val_acc: 0.2520\n",
            "Epoch 5/25\n",
            "1/1 [==============================] - 0s 485ms/step - loss: 0.1159 - acc: 0.2125 - val_loss: 0.4705 - val_acc: 0.3155\n",
            "Epoch 6/25\n",
            "1/1 [==============================] - 0s 480ms/step - loss: 0.1054 - acc: 0.2775 - val_loss: 0.4521 - val_acc: 0.3740\n",
            "Epoch 7/25\n",
            "1/1 [==============================] - 0s 482ms/step - loss: 0.1038 - acc: 0.2775 - val_loss: 0.4361 - val_acc: 0.4285\n",
            "Epoch 8/25\n",
            "1/1 [==============================] - 0s 487ms/step - loss: 0.0982 - acc: 0.3275 - val_loss: 0.4221 - val_acc: 0.4825\n",
            "Epoch 9/25\n",
            "1/1 [==============================] - 0s 477ms/step - loss: 0.0929 - acc: 0.3875 - val_loss: 0.4095 - val_acc: 0.5330\n",
            "Epoch 10/25\n",
            "1/1 [==============================] - 0s 477ms/step - loss: 0.0902 - acc: 0.4700 - val_loss: 0.3981 - val_acc: 0.5680\n",
            "Epoch 11/25\n",
            "1/1 [==============================] - 0s 488ms/step - loss: 0.0884 - acc: 0.4500 - val_loss: 0.3877 - val_acc: 0.5960\n",
            "Epoch 12/25\n",
            "1/1 [==============================] - 0s 491ms/step - loss: 0.0887 - acc: 0.4750 - val_loss: 0.3779 - val_acc: 0.6145\n",
            "Epoch 13/25\n",
            "1/1 [==============================] - 0s 480ms/step - loss: 0.0830 - acc: 0.5250 - val_loss: 0.3686 - val_acc: 0.6385\n",
            "Epoch 14/25\n",
            "1/1 [==============================] - 0s 482ms/step - loss: 0.0839 - acc: 0.5025 - val_loss: 0.3599 - val_acc: 0.6515\n",
            "Epoch 15/25\n",
            "1/1 [==============================] - 0s 487ms/step - loss: 0.0795 - acc: 0.5525 - val_loss: 0.3515 - val_acc: 0.6580\n",
            "Epoch 16/25\n",
            "1/1 [==============================] - 0s 491ms/step - loss: 0.0826 - acc: 0.5250 - val_loss: 0.3435 - val_acc: 0.6665\n",
            "Epoch 17/25\n",
            "1/1 [==============================] - 0s 492ms/step - loss: 0.0767 - acc: 0.5725 - val_loss: 0.3358 - val_acc: 0.6715\n",
            "Epoch 18/25\n",
            "1/1 [==============================] - 0s 489ms/step - loss: 0.0727 - acc: 0.6250 - val_loss: 0.3281 - val_acc: 0.6715\n",
            "Epoch 19/25\n",
            "1/1 [==============================] - 1s 504ms/step - loss: 0.0743 - acc: 0.5875 - val_loss: 0.3206 - val_acc: 0.6780\n",
            "Epoch 20/25\n",
            "1/1 [==============================] - 0s 485ms/step - loss: 0.0737 - acc: 0.6025 - val_loss: 0.3133 - val_acc: 0.6865\n",
            "Epoch 21/25\n",
            "1/1 [==============================] - 0s 489ms/step - loss: 0.0724 - acc: 0.6025 - val_loss: 0.3062 - val_acc: 0.6935\n",
            "Epoch 22/25\n",
            "1/1 [==============================] - 0s 476ms/step - loss: 0.0716 - acc: 0.5950 - val_loss: 0.2993 - val_acc: 0.6975\n",
            "Epoch 23/25\n",
            "1/1 [==============================] - 0s 489ms/step - loss: 0.0719 - acc: 0.6300 - val_loss: 0.2930 - val_acc: 0.7075\n",
            "Epoch 24/25\n",
            "1/1 [==============================] - 0s 492ms/step - loss: 0.0673 - acc: 0.6625 - val_loss: 0.2870 - val_acc: 0.7115\n",
            "Epoch 25/25\n",
            "1/1 [==============================] - 0s 483ms/step - loss: 0.0651 - acc: 0.6500 - val_loss: 0.2814 - val_acc: 0.7185\n",
            "CPU times: user 37.3 s, sys: 866 ms, total: 38.2 s\n",
            "Wall time: 37.1 s\n"
          ],
          "name": "stdout"
        }
      ]
    },
    {
      "cell_type": "code",
      "metadata": {
        "id": "-l9vS6HMsIbw",
        "colab": {
          "base_uri": "https://localhost:8080/"
        },
        "outputId": "2cbf16ec-c53c-4d28-fc8e-7be1bbe8627c"
      },
      "source": [
        "# Evaluate model\n",
        "X_te = X[test_mask]\n",
        "A_te = A[test_mask,:][:,test_mask]\n",
        "y_te = labels_encoded[test_mask]\n",
        "\n",
        "y_pred = model.predict([X_te, A_te], batch_size=N)\n",
        "report = classification_report(np.argmax(y_te,axis=1), np.argmax(y_pred,axis=1), target_names=classes)\n",
        "print('GCN Classification Report: \\n {}'.format(report))"
      ],
      "execution_count": 20,
      "outputs": [
        {
          "output_type": "stream",
          "text": [
            "GCN Classification Report: \n",
            "                precision    recall  f1-score   support\n",
            "\n",
            "   Electronic       1.00      1.00      1.00       700\n",
            " Experimental       1.00      1.00      1.00       700\n",
            "         Folk       0.97      1.00      0.99       700\n",
            "      Hip-Hop       1.00      1.00      1.00       700\n",
            " Instrumental       1.00      1.00      1.00       700\n",
            "International       0.99      1.00      1.00       700\n",
            "          Pop       1.00      0.96      0.98       700\n",
            "         Rock       1.00      1.00      1.00       700\n",
            "\n",
            "     accuracy                           0.99      5600\n",
            "    macro avg       0.99      0.99      0.99      5600\n",
            " weighted avg       0.99      0.99      0.99      5600\n",
            "\n"
          ],
          "name": "stdout"
        }
      ]
    },
    {
      "cell_type": "code",
      "metadata": {
        "colab": {
          "base_uri": "https://localhost:8080/"
        },
        "id": "Lt0FuN2n17GE",
        "outputId": "fe18e44c-fb0a-4aa7-ccec-23746055d54f"
      },
      "source": [
        "np.argmax(y_pred,axis=1)[:200]"
      ],
      "execution_count": 21,
      "outputs": [
        {
          "output_type": "execute_result",
          "data": {
            "text/plain": [
              "array([3, 3, 6, 2, 1, 7, 2, 2, 2, 2, 2, 2, 2, 2, 2, 7, 7, 1, 7, 2, 2, 2,\n",
              "       1, 2, 2, 5, 5, 3, 3, 3, 5, 5, 5, 2, 2, 7, 2, 6, 6, 5, 2, 1, 7, 1,\n",
              "       1, 7, 7, 1, 5, 1, 7, 7, 2, 2, 2, 1, 1, 7, 1, 1, 0, 6, 6, 6, 6, 1,\n",
              "       5, 5, 5, 5, 5, 5, 5, 5, 2, 2, 7, 7, 1, 7, 7, 2, 2, 2, 7, 1, 2, 2,\n",
              "       2, 2, 2, 2, 2, 7, 6, 2, 2, 6, 0, 7, 2, 2, 7, 7, 7, 7, 7, 7, 7, 7,\n",
              "       5, 5, 5, 2, 7, 7, 2, 2, 2, 2, 2, 2, 2, 2, 7, 2, 2, 2, 2, 2, 2, 2,\n",
              "       5, 5, 5, 5, 5, 5, 5, 5, 5, 5, 5, 5, 5, 5, 5, 5, 5, 5, 5, 5, 7, 5,\n",
              "       5, 5, 5, 5, 2, 5, 5, 5, 5, 0, 0, 0, 3, 3, 3, 3, 7, 7, 7, 7, 7, 7,\n",
              "       7, 7, 7, 7, 7, 7, 5, 5, 7, 2, 2, 2, 6, 3, 2, 2, 1, 2, 2, 5, 5, 5,\n",
              "       5, 5])"
            ]
          },
          "metadata": {
            "tags": []
          },
          "execution_count": 21
        }
      ]
    },
    {
      "cell_type": "code",
      "metadata": {
        "id": "lKunHtj3mt8V",
        "colab": {
          "base_uri": "https://localhost:8080/",
          "height": 592
        },
        "outputId": "c945cf6b-a866-4a01-d3df-a9aa8d03c59c"
      },
      "source": [
        "#Get the hidden layer representation after the first GCN layer\n",
        "layer_outputs = [layer.output for layer in model.layers]\n",
        "activation_model = Model(inputs=model.input, outputs=layer_outputs)\n",
        "activations = activation_model.predict([X,A],batch_size=N)\n",
        "\n",
        "#Get t-SNE Representation\n",
        "x_tsne = TSNE(n_components=2).fit_transform(activations[3]) \n",
        "\n",
        "def plot_tSNE(labels_encoded,x_tsne):\n",
        "    color_map = np.argmax(labels_encoded, axis=1)\n",
        "    plt.figure(figsize=(10,10))\n",
        "    for cl in range(num_classes):\n",
        "        indices = np.where(color_map==cl)\n",
        "        indices = indices[0]\n",
        "        plt.scatter(x_tsne[indices,0], x_tsne[indices, 1], label=cl)\n",
        "    plt.legend()\n",
        "    plt.show()\n",
        "    \n",
        "plot_tSNE(labels_encoded,x_tsne)"
      ],
      "execution_count": 22,
      "outputs": [
        {
          "output_type": "display_data",
          "data": {
            "image/png": "[encoded data removed]",
            "text/plain": [
              "<Figure size 720x720 with 1 Axes>"
            ]
          },
          "metadata": {
            "tags": [],
            "needs_background": "light"
          }
        }
      ]
    },
    {
      "cell_type": "code",
      "metadata": {
        "colab": {
          "base_uri": "https://localhost:8080/"
        },
        "id": "Mh_AHzix-s9d",
        "outputId": "4a5a37ae-5829-4203-d4c4-29b3047b53f1"
      },
      "source": [
        "X.shape"
      ],
      "execution_count": 33,
      "outputs": [
        {
          "output_type": "execute_result",
          "data": {
            "text/plain": [
              "(8000, 187)"
            ]
          },
          "metadata": {
            "tags": []
          },
          "execution_count": 33
        }
      ]
    },
    {
      "cell_type": "code",
      "metadata": {
        "colab": {
          "base_uri": "https://localhost:8080/"
        },
        "id": "ATKCOZ_5-xze",
        "outputId": "988672a8-3aee-43a0-d991-b6798f4c2a31"
      },
      "source": [
        "Y,Y.shape"
      ],
      "execution_count": 28,
      "outputs": [
        {
          "output_type": "execute_result",
          "data": {
            "text/plain": [
              "(array(['Hip-Hop', 'Hip-Hop', 'Pop', ..., 'Pop', 'Pop', 'Hip-Hop'],\n",
              "       dtype=object), (8000,))"
            ]
          },
          "metadata": {
            "tags": []
          },
          "execution_count": 28
        }
      ]
    },
    {
      "cell_type": "code",
      "metadata": {
        "id": "_AeOTWryRh1-",
        "colab": {
          "base_uri": "https://localhost:8080/",
          "height": 225
        },
        "outputId": "33f9caf8-4b45-48a0-db8d-0d4da5bc5be2"
      },
      "source": [
        "import sklearn.utils, sklearn.preprocessing, sklearn.decomposition, sklearn.svm\n",
        "\n",
        "X_train, X_test, y_train, y_test = train_test_split(X, Y, test_size=0.33, random_state=42)\n",
        "# Standardize features by removing the mean and scaling to unit variance.\n",
        "scaler = sklearn.preprocessing.StandardScaler(copy=False)\n",
        "scaler.fit_transform(X_train)\n",
        "scaler.transform(X_test)\n",
        "\n",
        "# Support vector classification.\n",
        "clf = sklearn.svm.SVC(probability=True)\n",
        "clf.fit(X_train, y_train)\n",
        "score = clf.predict_proba(X_test)\n",
        "# print('Accuracy: {:.2%}'.format(score))\n"
      ],
      "execution_count": 41,
      "outputs": [
        {
          "output_type": "error",
          "ename": "TypeError",
          "evalue": "ignored",
          "traceback": [
            "\u001b[0;31m---------------------------------------------------------------------------\u001b[0m",
            "\u001b[0;31mTypeError\u001b[0m                                 Traceback (most recent call last)",
            "\u001b[0;32m<ipython-input-41-1c4166a1ed8e>\u001b[0m in \u001b[0;36m<module>\u001b[0;34m()\u001b[0m\n\u001b[1;32m     11\u001b[0m \u001b[0mclf\u001b[0m\u001b[0;34m.\u001b[0m\u001b[0mfit\u001b[0m\u001b[0;34m(\u001b[0m\u001b[0mX_train\u001b[0m\u001b[0;34m,\u001b[0m \u001b[0my_train\u001b[0m\u001b[0;34m)\u001b[0m\u001b[0;34m\u001b[0m\u001b[0;34m\u001b[0m\u001b[0m\n\u001b[1;32m     12\u001b[0m \u001b[0mscore\u001b[0m \u001b[0;34m=\u001b[0m \u001b[0mclf\u001b[0m\u001b[0;34m.\u001b[0m\u001b[0mpredict_proba\u001b[0m\u001b[0;34m(\u001b[0m\u001b[0mX_test\u001b[0m\u001b[0;34m)\u001b[0m\u001b[0;34m\u001b[0m\u001b[0;34m\u001b[0m\u001b[0m\n\u001b[0;32m---> 13\u001b[0;31m \u001b[0mprint\u001b[0m\u001b[0;34m(\u001b[0m\u001b[0;34m'Accuracy: {:.2%}'\u001b[0m\u001b[0;34m.\u001b[0m\u001b[0mformat\u001b[0m\u001b[0;34m(\u001b[0m\u001b[0mscore\u001b[0m\u001b[0;34m)\u001b[0m\u001b[0;34m)\u001b[0m\u001b[0;34m\u001b[0m\u001b[0;34m\u001b[0m\u001b[0m\n\u001b[0m\u001b[1;32m     14\u001b[0m \u001b[0;31m# classification_report(np.argmax(y_te,axis=1), np.argmax(y_pred,axis=1), target_names=classes)\u001b[0m\u001b[0;34m\u001b[0m\u001b[0;34m\u001b[0m\u001b[0;34m\u001b[0m\u001b[0m\n",
            "\u001b[0;31mTypeError\u001b[0m: unsupported format string passed to numpy.ndarray.__format__"
          ]
        }
      ]
    },
    {
      "cell_type": "code",
      "metadata": {
        "id": "dYYx9E7LD5DL"
      },
      "source": [
        "y_pred = clf.predict(X_test)"
      ],
      "execution_count": 46,
      "outputs": []
    },
    {
      "cell_type": "code",
      "metadata": {
        "colab": {
          "base_uri": "https://localhost:8080/"
        },
        "id": "xWBaGjmmAm6u",
        "outputId": "4716ca5b-a1af-4a69-bbdc-93234ec0af5d"
      },
      "source": [
        "print(classification_report(y_test, y_pred, target_names=classes))"
      ],
      "execution_count": 48,
      "outputs": [
        {
          "output_type": "stream",
          "text": [
            "               precision    recall  f1-score   support\n",
            "\n",
            "   Electronic       0.55      0.57      0.56       322\n",
            " Experimental       0.43      0.57      0.49       333\n",
            "         Folk       0.67      0.65      0.66       305\n",
            "      Hip-Hop       0.65      0.59      0.62       354\n",
            " Instrumental       0.58      0.58      0.58       311\n",
            "International       0.67      0.59      0.63       344\n",
            "          Pop       0.42      0.39      0.40       318\n",
            "         Rock       0.72      0.67      0.69       353\n",
            "\n",
            "     accuracy                           0.58      2640\n",
            "    macro avg       0.59      0.58      0.58      2640\n",
            " weighted avg       0.59      0.58      0.58      2640\n",
            "\n"
          ],
          "name": "stdout"
        }
      ]
    },
    {
      "cell_type": "code",
      "metadata": {
        "colab": {
          "base_uri": "https://localhost:8080/"
        },
        "id": "oXQHb6pn_YLy",
        "outputId": "9b25d290-4fd7-4079-b287-81c94a368b89"
      },
      "source": [
        "from sklearn.ensemble import RandomForestClassifier\n",
        "X_train, X_test, y_train, y_test = train_test_split(X, Y, test_size=0.33, random_state=42)\n",
        "scaler = sklearn.preprocessing.StandardScaler(copy=False)\n",
        "scaler.fit_transform(X_train)\n",
        "scaler.transform(X_test)\n",
        "clf = RandomForestClassifier(max_depth=2, random_state=0)\n",
        "clf.fit(X_train, y_train)\n",
        "score = clf.score(X_test, y_test)\n",
        "print('Accuracy: {:.2%}'.format(score))"
      ],
      "execution_count": 36,
      "outputs": [
        {
          "output_type": "stream",
          "text": [
            "Accuracy: 42.65%\n"
          ],
          "name": "stdout"
        }
      ]
    },
    {
      "cell_type": "code",
      "metadata": {
        "id": "HvmYoO90ATAQ"
      },
      "source": [
        ""
      ],
      "execution_count": null,
      "outputs": []
    }
  ]
}