{
  "nbformat": 4,
  "nbformat_minor": 0,
  "metadata": {
    "colab": {
      "name": "Graph convolution network_FMA.ipynb",
      "provenance": [],
      "collapsed_sections": [
        "Z56XBk2gIZNl"
      ],
      "authorship_tag": "ABX9TyPEAxyHLDoqD/hb4Oe3s9LX",
      "include_colab_link": true
    },
    "kernelspec": {
      "name": "python3",
      "display_name": "Python 3"
    }
  },
  "cells": [
    {
      "cell_type": "markdown",
      "metadata": {
        "id": "view-in-github",
        "colab_type": "text"
      },
      "source": [
        "<a href=\"https://colab.research.google.com/github/krushnapavan9/GCN-FMA/blob/main/Graph_convolution_network_FMA.ipynb\" target=\"_parent\"><img src=\"https://colab.research.google.com/assets/colab-badge.svg\" alt=\"Open In Colab\"/></a>"
      ]
    },
    {
      "cell_type": "markdown",
      "metadata": {
        "id": "45FlXy8zl7cR"
      },
      "source": [
        "Ref : https://towardsdatascience.com/graph-convolutional-networks-on-node-classification-2b6bbec1d042 \\\\\n",
        "Ref: https://github.com/haczqyf/ggc/blob/master/ggc/demo.ipynb"
      ]
    },
    {
      "cell_type": "code",
      "metadata": {
        "colab": {
          "base_uri": "https://localhost:8080/"
        },
        "id": "D9kPn2GZChHq",
        "outputId": "5686b36d-bb99-43a5-a2cf-4e82d4369b7f"
      },
      "source": [
        "!wget https://github.com/haczqyf/ggc/raw/master/ggc/data/fma.content"
      ],
      "execution_count": null,
      "outputs": [
        {
          "output_type": "stream",
          "text": [
            "--2020-11-25 18:52:33--  https://github.com/haczqyf/ggc/raw/master/ggc/data/fma.content\n",
            "Resolving github.com (github.com)... 192.30.255.112\n",
            "Connecting to github.com (github.com)|192.30.255.112|:443... connected.\n",
            "HTTP request sent, awaiting response... 302 Found\n",
            "Location: https://raw.githubusercontent.com/haczqyf/ggc/master/ggc/data/fma.content [following]\n",
            "--2020-11-25 18:52:34--  https://raw.githubusercontent.com/haczqyf/ggc/master/ggc/data/fma.content\n",
            "Resolving raw.githubusercontent.com (raw.githubusercontent.com)... 151.101.0.133, 151.101.64.133, 151.101.128.133, ...\n",
            "Connecting to raw.githubusercontent.com (raw.githubusercontent.com)|151.101.0.133|:443... connected.\n",
            "HTTP request sent, awaiting response... 200 OK\n",
            "Length: 5533030 (5.3M) [text/plain]\n",
            "Saving to: ‘fma.content.1’\n",
            "\n",
            "fma.content.1       100%[===================>]   5.28M  19.4MB/s    in 0.3s    \n",
            "\n",
            "2020-11-25 18:52:34 (19.4 MB/s) - ‘fma.content.1’ saved [5533030/5533030]\n",
            "\n"
          ],
          "name": "stdout"
        }
      ]
    },
    {
      "cell_type": "code",
      "metadata": {
        "colab": {
          "base_uri": "https://localhost:8080/"
        },
        "id": "ZPI6e48noPjW",
        "outputId": "41214737-143c-4809-813b-ee959d4d1aa0"
      },
      "source": [
        "!pip install spektral"
      ],
      "execution_count": null,
      "outputs": [
        {
          "output_type": "stream",
          "text": [
            "Requirement already satisfied: spektral in /usr/local/lib/python3.6/dist-packages (0.6.2)\n",
            "Requirement already satisfied: scipy in /usr/local/lib/python3.6/dist-packages (from spektral) (1.4.1)\n",
            "Requirement already satisfied: joblib in /usr/local/lib/python3.6/dist-packages (from spektral) (0.17.0)\n",
            "Requirement already satisfied: numpy in /usr/local/lib/python3.6/dist-packages (from spektral) (1.18.5)\n",
            "Requirement already satisfied: networkx in /usr/local/lib/python3.6/dist-packages (from spektral) (2.5)\n",
            "Requirement already satisfied: pandas in /usr/local/lib/python3.6/dist-packages (from spektral) (1.1.4)\n",
            "Requirement already satisfied: scikit-learn in /usr/local/lib/python3.6/dist-packages (from spektral) (0.22.2.post1)\n",
            "Requirement already satisfied: lxml in /usr/local/lib/python3.6/dist-packages (from spektral) (4.2.6)\n",
            "Requirement already satisfied: requests in /usr/local/lib/python3.6/dist-packages (from spektral) (2.23.0)\n",
            "Requirement already satisfied: tensorflow>=2.1.0 in /usr/local/lib/python3.6/dist-packages (from spektral) (2.3.0)\n",
            "Requirement already satisfied: decorator>=4.3.0 in /usr/local/lib/python3.6/dist-packages (from networkx->spektral) (4.4.2)\n",
            "Requirement already satisfied: python-dateutil>=2.7.3 in /usr/local/lib/python3.6/dist-packages (from pandas->spektral) (2.8.1)\n",
            "Requirement already satisfied: pytz>=2017.2 in /usr/local/lib/python3.6/dist-packages (from pandas->spektral) (2018.9)\n",
            "Requirement already satisfied: urllib3!=1.25.0,!=1.25.1,<1.26,>=1.21.1 in /usr/local/lib/python3.6/dist-packages (from requests->spektral) (1.24.3)\n",
            "Requirement already satisfied: idna<3,>=2.5 in /usr/local/lib/python3.6/dist-packages (from requests->spektral) (2.10)\n",
            "Requirement already satisfied: certifi>=2017.4.17 in /usr/local/lib/python3.6/dist-packages (from requests->spektral) (2020.11.8)\n",
            "Requirement already satisfied: chardet<4,>=3.0.2 in /usr/local/lib/python3.6/dist-packages (from requests->spektral) (3.0.4)\n",
            "Requirement already satisfied: protobuf>=3.9.2 in /usr/local/lib/python3.6/dist-packages (from tensorflow>=2.1.0->spektral) (3.12.4)\n",
            "Requirement already satisfied: absl-py>=0.7.0 in /usr/local/lib/python3.6/dist-packages (from tensorflow>=2.1.0->spektral) (0.10.0)\n",
            "Requirement already satisfied: termcolor>=1.1.0 in /usr/local/lib/python3.6/dist-packages (from tensorflow>=2.1.0->spektral) (1.1.0)\n",
            "Requirement already satisfied: tensorflow-estimator<2.4.0,>=2.3.0 in /usr/local/lib/python3.6/dist-packages (from tensorflow>=2.1.0->spektral) (2.3.0)\n",
            "Requirement already satisfied: six>=1.12.0 in /usr/local/lib/python3.6/dist-packages (from tensorflow>=2.1.0->spektral) (1.15.0)\n",
            "Requirement already satisfied: wrapt>=1.11.1 in /usr/local/lib/python3.6/dist-packages (from tensorflow>=2.1.0->spektral) (1.12.1)\n",
            "Requirement already satisfied: gast==0.3.3 in /usr/local/lib/python3.6/dist-packages (from tensorflow>=2.1.0->spektral) (0.3.3)\n",
            "Requirement already satisfied: h5py<2.11.0,>=2.10.0 in /usr/local/lib/python3.6/dist-packages (from tensorflow>=2.1.0->spektral) (2.10.0)\n",
            "Requirement already satisfied: keras-preprocessing<1.2,>=1.1.1 in /usr/local/lib/python3.6/dist-packages (from tensorflow>=2.1.0->spektral) (1.1.2)\n",
            "Requirement already satisfied: tensorboard<3,>=2.3.0 in /usr/local/lib/python3.6/dist-packages (from tensorflow>=2.1.0->spektral) (2.3.0)\n",
            "Requirement already satisfied: wheel>=0.26 in /usr/local/lib/python3.6/dist-packages (from tensorflow>=2.1.0->spektral) (0.35.1)\n",
            "Requirement already satisfied: astunparse==1.6.3 in /usr/local/lib/python3.6/dist-packages (from tensorflow>=2.1.0->spektral) (1.6.3)\n",
            "Requirement already satisfied: opt-einsum>=2.3.2 in /usr/local/lib/python3.6/dist-packages (from tensorflow>=2.1.0->spektral) (3.3.0)\n",
            "Requirement already satisfied: google-pasta>=0.1.8 in /usr/local/lib/python3.6/dist-packages (from tensorflow>=2.1.0->spektral) (0.2.0)\n",
            "Requirement already satisfied: grpcio>=1.8.6 in /usr/local/lib/python3.6/dist-packages (from tensorflow>=2.1.0->spektral) (1.33.2)\n",
            "Requirement already satisfied: setuptools in /usr/local/lib/python3.6/dist-packages (from protobuf>=3.9.2->tensorflow>=2.1.0->spektral) (50.3.2)\n",
            "Requirement already satisfied: google-auth-oauthlib<0.5,>=0.4.1 in /usr/local/lib/python3.6/dist-packages (from tensorboard<3,>=2.3.0->tensorflow>=2.1.0->spektral) (0.4.2)\n",
            "Requirement already satisfied: markdown>=2.6.8 in /usr/local/lib/python3.6/dist-packages (from tensorboard<3,>=2.3.0->tensorflow>=2.1.0->spektral) (3.3.3)\n",
            "Requirement already satisfied: werkzeug>=0.11.15 in /usr/local/lib/python3.6/dist-packages (from tensorboard<3,>=2.3.0->tensorflow>=2.1.0->spektral) (1.0.1)\n",
            "Requirement already satisfied: google-auth<2,>=1.6.3 in /usr/local/lib/python3.6/dist-packages (from tensorboard<3,>=2.3.0->tensorflow>=2.1.0->spektral) (1.17.2)\n",
            "Requirement already satisfied: tensorboard-plugin-wit>=1.6.0 in /usr/local/lib/python3.6/dist-packages (from tensorboard<3,>=2.3.0->tensorflow>=2.1.0->spektral) (1.7.0)\n",
            "Requirement already satisfied: requests-oauthlib>=0.7.0 in /usr/local/lib/python3.6/dist-packages (from google-auth-oauthlib<0.5,>=0.4.1->tensorboard<3,>=2.3.0->tensorflow>=2.1.0->spektral) (1.3.0)\n",
            "Requirement already satisfied: importlib-metadata; python_version < \"3.8\" in /usr/local/lib/python3.6/dist-packages (from markdown>=2.6.8->tensorboard<3,>=2.3.0->tensorflow>=2.1.0->spektral) (2.0.0)\n",
            "Requirement already satisfied: cachetools<5.0,>=2.0.0 in /usr/local/lib/python3.6/dist-packages (from google-auth<2,>=1.6.3->tensorboard<3,>=2.3.0->tensorflow>=2.1.0->spektral) (4.1.1)\n",
            "Requirement already satisfied: pyasn1-modules>=0.2.1 in /usr/local/lib/python3.6/dist-packages (from google-auth<2,>=1.6.3->tensorboard<3,>=2.3.0->tensorflow>=2.1.0->spektral) (0.2.8)\n",
            "Requirement already satisfied: rsa<5,>=3.1.4; python_version >= \"3\" in /usr/local/lib/python3.6/dist-packages (from google-auth<2,>=1.6.3->tensorboard<3,>=2.3.0->tensorflow>=2.1.0->spektral) (4.6)\n",
            "Requirement already satisfied: oauthlib>=3.0.0 in /usr/local/lib/python3.6/dist-packages (from requests-oauthlib>=0.7.0->google-auth-oauthlib<0.5,>=0.4.1->tensorboard<3,>=2.3.0->tensorflow>=2.1.0->spektral) (3.1.0)\n",
            "Requirement already satisfied: zipp>=0.5 in /usr/local/lib/python3.6/dist-packages (from importlib-metadata; python_version < \"3.8\"->markdown>=2.6.8->tensorboard<3,>=2.3.0->tensorflow>=2.1.0->spektral) (3.4.0)\n",
            "Requirement already satisfied: pyasn1<0.5.0,>=0.4.6 in /usr/local/lib/python3.6/dist-packages (from pyasn1-modules>=0.2.1->google-auth<2,>=1.6.3->tensorboard<3,>=2.3.0->tensorflow>=2.1.0->spektral) (0.4.8)\n"
          ],
          "name": "stdout"
        }
      ]
    },
    {
      "cell_type": "code",
      "metadata": {
        "id": "1qxGdb9CoVgg"
      },
      "source": [
        "#importing dependencies\n",
        "\n",
        "import numpy as np\n",
        "import os\n",
        "import networkx as nx\n",
        "from keras.utils import to_categorical\n",
        "from sklearn.preprocessing import LabelEncoder\n",
        "from sklearn.utils import shuffle\n",
        "from sklearn.metrics import classification_report\n",
        "\n",
        "from spektral.layers import GraphConv\n",
        "\n",
        "from tensorflow.keras.models import Model\n",
        "from tensorflow.keras.layers import Input, Dropout, Dense\n",
        "from tensorflow.keras import Sequential\n",
        "from tensorflow.keras.optimizers import Adam\n",
        "from tensorflow.keras.callbacks import TensorBoard, EarlyStopping\n",
        "import tensorflow as tf\n",
        "from tensorflow.keras.regularizers import l2\n",
        "\n",
        "from collections import Counter\n",
        "from sklearn.manifold import TSNE\n",
        "import matplotlib.pyplot as plt"
      ],
      "execution_count": null,
      "outputs": []
    },
    {
      "cell_type": "code",
      "metadata": {
        "id": "ulsX8vlOCyzi"
      },
      "source": [
        "import scipy.sparse as sp\n",
        "import numpy as np\n",
        "from sklearn import preprocessing\n",
        "import networkx as nx\n",
        "\n",
        "import matplotlib.pyplot as plt\n",
        "import seaborn as sns\n",
        "import pandas as pd"
      ],
      "execution_count": null,
      "outputs": []
    },
    {
      "cell_type": "code",
      "metadata": {
        "id": "v2uky2kFDanq"
      },
      "source": [
        "# def encode_onehot(labels):\n",
        "#     classes = sorted(list(set(labels)))\n",
        "#     classes_dict = {c: np.identity(len(classes))[i, :] for i, c in enumerate(classes)}\n",
        "#     labels_onehot = np.array(list(map(classes_dict.get, labels)), dtype=np.int32)\n",
        "\n",
        "#     return labels_onehot,len(classes)\n",
        "\n",
        "def encode_label(labels):\n",
        "    label_encoder = LabelEncoder()\n",
        "    labels = label_encoder.fit_transform(labels)\n",
        "    labels = to_categorical(labels)\n",
        "    return labels, label_encoder.classes_\n",
        "\n",
        "def load_data(dataset):\n",
        "    \"\"\"Load feature matrix and ground truth assignment matrix.\"\"\"\n",
        "    print('Loading {} dataset...'.format(dataset))\n",
        "    \n",
        "    idx_feature_labels = np.genfromtxt(\"{}.content\".format(dataset), dtype=np.dtype(str))\n",
        "    features = sp.csr_matrix(idx_feature_labels[:, 1:-1], dtype=np.float32)\n",
        "    labels = idx_feature_labels[:, -1]\n",
        "\n",
        "    idx = np.array(idx_feature_labels[:, 0], dtype=np.int32)\n",
        "    nodelist_mapping = dict(enumerate(idx))\n",
        "\n",
        "    # print('Samples={},Features={},Labels={}'.format(features.shape[0],features.shape[1],labels.shape[1]))\n",
        "\n",
        "    return features.toarray(), labels, nodelist_mapping\n",
        "\n",
        "def preprocess_features(features):\n",
        "    \"\"\"Row-normalize feature matrix\"\"\"\n",
        "    features = preprocessing.normalize(features, norm='l1', axis=1)\n",
        "    return features\n",
        "\n",
        "def show_info(adj):\n",
        "    \"\"\"Show basic information about a graph using its adjacency matrix\"\"\"\n",
        "    N = adj.shape[0]\n",
        "    count_edges = int(np.sum(np.count_nonzero(adj)) / 2)\n",
        "    print(\"Nodes={},Edges={},Density={:.5f}\".format(adj.shape[0],count_edges,count_edges/ (N * (N-1) / 2)))"
      ],
      "execution_count": null,
      "outputs": []
    },
    {
      "cell_type": "code",
      "metadata": {
        "colab": {
          "base_uri": "https://localhost:8080/"
        },
        "id": "0caswSQiDiEB",
        "outputId": "5425a809-74b0-4cdf-8105-0b70a18df652"
      },
      "source": [
        "X, labels, nodelist_mapping = load_data(dataset='fma')\n",
        "X = preprocess_features(X)\n",
        "labels_encoded, classes = encode_label(labels)\n",
        "N = X.shape[0] #the number of nodes\n",
        "F = X.shape[1] #the size of node features\n",
        "num_classes = len(set(labels))"
      ],
      "execution_count": null,
      "outputs": [
        {
          "output_type": "stream",
          "text": [
            "Loading fma dataset...\n"
          ],
          "name": "stdout"
        }
      ]
    },
    {
      "cell_type": "code",
      "metadata": {
        "id": "8S7ANrZtEnWi"
      },
      "source": [
        "import itertools\n",
        "import numpy as np\n",
        "import networkx as nx\n",
        "from sklearn.neighbors import kneighbors_graph\n",
        "from sklearn.metrics.pairwise import euclidean_distances\n",
        "from scipy.sparse.csgraph import minimum_spanning_tree"
      ],
      "execution_count": null,
      "outputs": []
    },
    {
      "cell_type": "code",
      "metadata": {
        "id": "3FgOentYEjao"
      },
      "source": [
        "def mst_graph(X):\n",
        "    \"\"\"Returns Minimum Spanning Tree (MST) graph from the feature matrix.\n",
        "    Parameters\n",
        "    ----------\n",
        "    X : ndarray, shape (N, F)\n",
        "        N samples and F-dimensional features.\n",
        "    Returns\n",
        "    -------\n",
        "    adj : ndarray, shape (N, N)\n",
        "        The adjacency matrix of the constructed mst graph.\n",
        "    \"\"\"\n",
        "    D = euclidean_distances(X, X)\n",
        "    adj_directed = minimum_spanning_tree(D).toarray()\n",
        "    adj = adj_directed + adj_directed.T\n",
        "    adj[adj > 0] = 1\n",
        "    np.fill_diagonal(adj,0)\n",
        "\n",
        "    return adj\n",
        "\n",
        "def cknn_graph(X, delta, k):\n",
        "    \"\"\"Returns Continuous k-Nearest Neighbor (CkNN) graph from the feature matrix.\n",
        "    Parameters\n",
        "    ----------\n",
        "    X : ndarray, shape (N, F)\n",
        "        N samples and F-dimensional features.\n",
        "    delta : float, delta > 0\n",
        "        Parameter for cknn.\n",
        "    k : int, k >= 1\n",
        "        Parameter for cknn: the k-th nearest neighbour.\n",
        "    Returns\n",
        "    -------\n",
        "    adj : ndarray, shape (N, N)\n",
        "        The adjacency matrix of the constructed cknn graph.\n",
        "    \n",
        "    References\n",
        "    ----------\n",
        "    .. [1] Tyrus Berry, Timothy Sauer. Consistent manifold representation for topological data analysis.\n",
        "           Foundations of Data Science, 2019, 1 (1) : 1-38. doi: 10.3934/fods.2019001\n",
        "    \"\"\"\n",
        "    assert k < X.shape[0]\n",
        "\n",
        "    D = euclidean_distances(X, X)\n",
        "    N = D.shape[0]\n",
        "    np.fill_diagonal(D,0)\n",
        "    D_k = np.sort(D)\n",
        "\n",
        "    adj = np.zeros([N, N])\n",
        "    adj[np.square(D) < delta * delta * np.dot(D_k[:,k].reshape(-1,1),D_k[:,k].reshape(1,-1))] = 1\n",
        "    np.fill_diagonal(adj,0)\n",
        "\n",
        "    return adj\n"
      ],
      "execution_count": null,
      "outputs": []
    },
    {
      "cell_type": "code",
      "metadata": {
        "colab": {
          "base_uri": "https://localhost:8080/"
        },
        "id": "Tutwi15cERix",
        "outputId": "2ebbd67c-a479-4176-a356-bbee29dca141"
      },
      "source": [
        "%%time\n",
        "A = cknn_graph(X=X, delta=1, k=199)"
      ],
      "execution_count": null,
      "outputs": [
        {
          "output_type": "stream",
          "text": [
            "CPU times: user 398 ms, sys: 183 ms, total: 581 ms\n",
            "Wall time: 379 ms\n"
          ],
          "name": "stdout"
        }
      ]
    },
    {
      "cell_type": "code",
      "metadata": {
        "id": "7EVCyH_aERfq"
      },
      "source": [
        "A = A + mst_graph(X=X)\n",
        "A[A > 0] = 1"
      ],
      "execution_count": null,
      "outputs": []
    },
    {
      "cell_type": "code",
      "metadata": {
        "colab": {
          "base_uri": "https://localhost:8080/"
        },
        "id": "VimD2H3mEQ63",
        "outputId": "c9f1af0b-e924-49b3-df01-d4f98aba8f32"
      },
      "source": [
        "show_info(A)"
      ],
      "execution_count": null,
      "outputs": [
        {
          "output_type": "stream",
          "text": [
            "Nodes=2000,Edges=176463,Density=0.08828\n"
          ],
          "name": "stdout"
        }
      ]
    },
    {
      "cell_type": "code",
      "metadata": {
        "colab": {
          "base_uri": "https://localhost:8080/"
        },
        "id": "Cdx48xNnHLcc",
        "outputId": "a730d855-237c-4bfe-b912-fe0f9260c5ff"
      },
      "source": [
        "print(A[:5,:10])"
      ],
      "execution_count": null,
      "outputs": [
        {
          "output_type": "stream",
          "text": [
            "[[0. 0. 0. 0. 0. 0. 1. 0. 0. 0.]\n",
            " [0. 0. 0. 0. 0. 0. 0. 0. 0. 0.]\n",
            " [0. 0. 0. 0. 0. 0. 0. 0. 0. 0.]\n",
            " [0. 0. 0. 0. 0. 0. 0. 0. 1. 1.]\n",
            " [0. 0. 0. 0. 0. 0. 0. 0. 0. 0.]]\n"
          ],
          "name": "stdout"
        }
      ]
    },
    {
      "cell_type": "markdown",
      "metadata": {
        "id": "Z56XBk2gIZNl"
      },
      "source": [
        "# unused"
      ]
    },
    {
      "cell_type": "code",
      "metadata": {
        "id": "aLV90CZrH6OL"
      },
      "source": [
        "# # Layout: spring. Node color: ground truth class label.\n",
        "# fig, ax = plt.subplots(1, 1, figsize=(8,8))\n",
        "# nx.draw_networkx(G,pos=nx.spring_layout(G, seed=123),\n",
        "#                  node_color=node_colors,\n",
        "#                  node_size=2,\n",
        "#                  with_labels=False,\n",
        "#                  edge_color=\"#b9b9b9\",\n",
        "#                  width=0.2,\n",
        "#                  ax=ax)\n",
        "\n",
        "# frame1 = plt.gca()\n",
        "# frame1.axes.get_xaxis().set_visible(False)\n",
        "# frame1.axes.get_yaxis().set_visible(False)\n",
        "# plt.show()"
      ],
      "execution_count": null,
      "outputs": []
    },
    {
      "cell_type": "code",
      "metadata": {
        "id": "iolwXi0Tlrkp"
      },
      "source": [
        "# all_data = []\n",
        "# all_edges = []\n",
        "\n",
        "# for root,dirs,files in os.walk('./cora'):\n",
        "#     for file in files:\n",
        "#         if '.content' in file:\n",
        "#             with open(os.path.join(root,file),'r') as f:\n",
        "#                 all_data.extend(f.read().splitlines())\n",
        "#         elif 'cites' in file:\n",
        "#             with open(os.path.join(root,file),'r') as f:\n",
        "#                 all_edges.extend(f.read().splitlines())\n",
        "\n",
        "                \n",
        "# #Shuffle the data because the raw data is ordered based on the label\n",
        "# random_state = 77\n",
        "# all_data = shuffle(all_data,random_state=random_state)"
      ],
      "execution_count": null,
      "outputs": []
    },
    {
      "cell_type": "code",
      "metadata": {
        "id": "yp4eG-zpmE_S"
      },
      "source": [
        "# labels = []\n",
        "# nodes = []\n",
        "# X = []\n",
        "\n",
        "# for i,data in enumerate(all_data):\n",
        "#     elements = data.split('\\t')\n",
        "#     labels.append(elements[-1])\n",
        "#     X.append(elements[1:-1])\n",
        "#     nodes.append(elements[0])\n",
        "\n",
        "# X = np.array(X,dtype=int)\n",
        "# N = X.shape[0] #the number of nodes\n",
        "# F = X.shape[1] #the size of node features\n",
        "# print('X shape: ', X.shape)\n",
        "\n",
        "\n",
        "# #parse the edge\n",
        "# edge_list=[]\n",
        "# for edge in all_edges:\n",
        "#     e = edge.split('\\t')\n",
        "#     edge_list.append((e[0],e[1]))\n",
        "\n",
        "# print('\\nNumber of nodes (N): ', N)\n",
        "# print('\\nNumber of features (F) of each node: ', F)\n",
        "# print('\\nCategories: ', set(labels))\n",
        "\n",
        "# num_classes = len(set(labels))\n",
        "# print('\\nNumber of classes: ', num_classes)"
      ],
      "execution_count": null,
      "outputs": []
    },
    {
      "cell_type": "markdown",
      "metadata": {
        "id": "vMo2sVa9IeQz"
      },
      "source": [
        "# continue"
      ]
    },
    {
      "cell_type": "code",
      "metadata": {
        "id": "lVsTTJ_4mLX0"
      },
      "source": [
        "def limit_data(labels,limit=0.5,val_num=500,test_num=1000):\n",
        "    '''\n",
        "    Get the index of train, validation, and test data\n",
        "    '''\n",
        "    limit = len(labels)*limit/len(set(labels))\n",
        "\n",
        "    label_counter = dict((l, 0) for l in labels)\n",
        "    train_idx = []\n",
        "\n",
        "    for i in range(len(labels)):\n",
        "        label = labels[i]\n",
        "        if label_counter[label]<limit:\n",
        "            #add the example to the training data\n",
        "            train_idx.append(i)\n",
        "            label_counter[label]+=1\n",
        "        \n",
        "        #exit the loop once we found 20 examples for each class\n",
        "        if all(count == limit for count in label_counter.values()):\n",
        "            break\n",
        "    \n",
        "    #get the indices that do not go to traning data\n",
        "    rest_idx = [x for x in range(len(labels)) if x not in train_idx]\n",
        "    val_idx = rest_idx[:val_num]\n",
        "    test_idx = rest_idx[val_num:(val_num+test_num)]\n",
        "    return train_idx, val_idx,test_idx\n",
        "\n",
        "train_idx,val_idx,test_idx = limit_data(labels)\n",
        "\n",
        "train_idx,val_idx,test_idx = range(96), range(96,300),range(300,2000)\n",
        "\n",
        "#set the mask\n",
        "train_mask = np.zeros((N,),dtype=bool)\n",
        "train_mask[train_idx] = True\n",
        "\n",
        "val_mask = np.zeros((N,),dtype=bool)\n",
        "val_mask[val_idx] = True\n",
        "\n",
        "test_mask = np.zeros((N,),dtype=bool)\n",
        "test_mask[test_idx] = True"
      ],
      "execution_count": null,
      "outputs": []
    },
    {
      "cell_type": "code",
      "metadata": {
        "id": "GCXEHo2SHHMU"
      },
      "source": [
        "# G = nx.Graph(A)\n",
        "# df = pd.DataFrame()\n",
        "# df[\"class\"] = list(np.nonzero(Y)[1] + 1)\n",
        "\n",
        "# colors = sns.color_palette(\"Set1\", n_colors=len(set(df[\"class\"])), desat=1.0)\n",
        "# node_colors = []\n",
        "# for node in G.nodes():\n",
        "#     node_colors.append(colors[int(df.loc[node][\"class\"])-1])"
      ],
      "execution_count": null,
      "outputs": []
    },
    {
      "cell_type": "code",
      "metadata": {
        "colab": {
          "base_uri": "https://localhost:8080/"
        },
        "id": "HW4KhD9e_m9q",
        "outputId": "c21433cc-abbb-44ba-e366-7b55b7359508"
      },
      "source": [
        "print(\"All Data Distribution: \\n{}\".format(Counter(labels)))"
      ],
      "execution_count": null,
      "outputs": [
        {
          "output_type": "stream",
          "text": [
            "All Data Distribution: \n",
            "Counter({'0': 250, '1': 250, '2': 250, '3': 250, '4': 250, '5': 250, '6': 250, '7': 250})\n"
          ],
          "name": "stdout"
        }
      ]
    },
    {
      "cell_type": "code",
      "metadata": {
        "colab": {
          "base_uri": "https://localhost:8080/"
        },
        "id": "g5rmunCk_m9q",
        "outputId": "dd7a74b3-25c4-463a-cf45-66c6f814fbea"
      },
      "source": [
        "print(\"Training Data Distribution: \\n{}\".format(Counter([labels[i] for i in train_idx])))"
      ],
      "execution_count": null,
      "outputs": [
        {
          "output_type": "stream",
          "text": [
            "Training Data Distribution: \n",
            "Counter({'0': 12, '1': 12, '2': 12, '3': 12, '4': 12, '5': 12, '6': 12, '7': 12})\n"
          ],
          "name": "stdout"
        }
      ]
    },
    {
      "cell_type": "code",
      "metadata": {
        "colab": {
          "base_uri": "https://localhost:8080/"
        },
        "id": "NV7xIdjX_m9q",
        "outputId": "c9981a00-35a1-409a-ce13-4b286c8dc491"
      },
      "source": [
        "print(\"Validation Data Distribution: \\n{}\".format(Counter([labels[i] for i in val_idx])))"
      ],
      "execution_count": null,
      "outputs": [
        {
          "output_type": "stream",
          "text": [
            "Validation Data Distribution: \n",
            "Counter({'4': 32, '5': 30, '1': 28, '2': 27, '3': 23, '7': 22, '0': 21, '6': 21})\n"
          ],
          "name": "stdout"
        }
      ]
    },
    {
      "cell_type": "code",
      "metadata": {
        "colab": {
          "base_uri": "https://localhost:8080/"
        },
        "id": "3IN-AE7yqE4z",
        "outputId": "b71f28a9-5c60-4be3-c9c5-5f679c37bebb"
      },
      "source": [
        "print(\"Validation Data Distribution: \\n{}\".format(Counter([labels[i] for i in test_idx])))"
      ],
      "execution_count": null,
      "outputs": [
        {
          "output_type": "stream",
          "text": [
            "Validation Data Distribution: \n",
            "Counter({'6': 217, '0': 217, '7': 216, '3': 215, '2': 211, '1': 210, '5': 208, '4': 206})\n"
          ],
          "name": "stdout"
        }
      ]
    },
    {
      "cell_type": "code",
      "metadata": {
        "id": "o5Ih2BfcmNhe",
        "colab": {
          "base_uri": "https://localhost:8080/"
        },
        "outputId": "96fdb142-30e8-4b23-bfa5-96347cd2149a"
      },
      "source": [
        "G = nx.Graph(A)\n",
        "\n",
        "#obtain the adjacency matrix (A)\n",
        "A = nx.adjacency_matrix(G)\n",
        "print('Graph info: ', nx.info(G))"
      ],
      "execution_count": null,
      "outputs": [
        {
          "output_type": "stream",
          "text": [
            "Graph info:  Name: \n",
            "Type: Graph\n",
            "Number of nodes: 2000\n",
            "Number of edges: 176463\n",
            "Average degree: 176.4630\n"
          ],
          "name": "stdout"
        }
      ]
    },
    {
      "cell_type": "markdown",
      "metadata": {
        "id": "OSskR93Pmh2n"
      },
      "source": [
        "code for training : https://github.com/danielegrattarola/spektral/blob/master/examples/node_prediction/citation_gcn.py"
      ]
    },
    {
      "cell_type": "code",
      "metadata": {
        "id": "ECP8jxGPmd4X",
        "colab": {
          "base_uri": "https://localhost:8080/"
        },
        "outputId": "5f2f920d-3955-435b-ede1-35e32f9a723c"
      },
      "source": [
        "# Parameters\n",
        "channels = 16           # Number of channels in the first layer\n",
        "dropout = 0.5           # Dropout rate for the features\n",
        "l2_reg = 5e-4           # L2 regularization rate\n",
        "learning_rate = 1e-2    # Learning rate\n",
        "epochs = 2000           # Number of training epochs\n",
        "es_patience = 10        # Patience for early stopping\n",
        "\n",
        "# Preprocessing operations\n",
        "A = GraphConv.preprocess(A).astype('f4')\n",
        "\n",
        "# Model definition\n",
        "X_in = Input(shape=(F, ))\n",
        "fltr_in = Input((N, ), sparse=True)\n",
        "\n",
        "dropout_1 = Dropout(dropout)(X_in)\n",
        "graph_conv_1 = GraphConv(channels,\n",
        "                         activation='relu',\n",
        "                         kernel_regularizer=l2(l2_reg),\n",
        "                         use_bias=False)([dropout_1, fltr_in])\n",
        "\n",
        "dropout_2 = Dropout(dropout)(graph_conv_1)\n",
        "graph_conv_2 = GraphConv(num_classes,\n",
        "                         activation='softmax',\n",
        "                         use_bias=False)([dropout_2, fltr_in])\n",
        "\n",
        "# Build model\n",
        "model = Model(inputs=[X_in, fltr_in], outputs=graph_conv_2)\n",
        "optimizer = Adam(lr=learning_rate)\n",
        "model.compile(optimizer=optimizer,\n",
        "              loss='categorical_crossentropy',\n",
        "              weighted_metrics=['acc'])\n",
        "model.summary()\n",
        "\n",
        "tbCallBack_GCN = tf.keras.callbacks.TensorBoard(\n",
        "    log_dir='./Tensorboard_GCN_cora',\n",
        ")\n",
        "callback_GCN = [tbCallBack_GCN] "
      ],
      "execution_count": null,
      "outputs": [
        {
          "output_type": "stream",
          "text": [
            "Model: \"functional_1\"\n",
            "__________________________________________________________________________________________________\n",
            "Layer (type)                    Output Shape         Param #     Connected to                     \n",
            "==================================================================================================\n",
            "input_1 (InputLayer)            [(None, 140)]        0                                            \n",
            "__________________________________________________________________________________________________\n",
            "dropout (Dropout)               (None, 140)          0           input_1[0][0]                    \n",
            "__________________________________________________________________________________________________\n",
            "input_2 (InputLayer)            [(None, 2000)]       0                                            \n",
            "__________________________________________________________________________________________________\n",
            "graph_conv (GraphConv)          (None, 16)           2240        dropout[0][0]                    \n",
            "                                                                 input_2[0][0]                    \n",
            "__________________________________________________________________________________________________\n",
            "dropout_1 (Dropout)             (None, 16)           0           graph_conv[0][0]                 \n",
            "__________________________________________________________________________________________________\n",
            "graph_conv_1 (GraphConv)        (None, 8)            128         dropout_1[0][0]                  \n",
            "                                                                 input_2[0][0]                    \n",
            "==================================================================================================\n",
            "Total params: 2,368\n",
            "Trainable params: 2,368\n",
            "Non-trainable params: 0\n",
            "__________________________________________________________________________________________________\n"
          ],
          "name": "stdout"
        }
      ]
    },
    {
      "cell_type": "code",
      "metadata": {
        "id": "LJ35p2NSmoIe",
        "colab": {
          "base_uri": "https://localhost:8080/"
        },
        "outputId": "7dfb6621-9bfa-4c6d-a71d-2b04eade72b8"
      },
      "source": [
        "#Train model\n",
        "%%time\n",
        "validation_data = ([X, A], labels_encoded, val_mask)\n",
        "model.fit([X, A],\n",
        "          labels_encoded,\n",
        "          sample_weight=train_mask,\n",
        "          epochs=epochs,\n",
        "          batch_size=N,\n",
        "          validation_data=validation_data,\n",
        "          shuffle=False,\n",
        "          callbacks=[\n",
        "              EarlyStopping(patience=es_patience,  restore_best_weights=True),\n",
        "              tbCallBack_GCN\n",
        "          ])\n"
      ],
      "execution_count": null,
      "outputs": [
        {
          "output_type": "stream",
          "text": [
            "Epoch 1/2000\n",
            "1/1 [==============================] - 0s 178ms/step - loss: 0.0887 - acc: 0.2917 - val_loss: 0.1971 - val_acc: 0.3235\n",
            "Epoch 2/2000\n",
            "1/1 [==============================] - 0s 35ms/step - loss: 0.0883 - acc: 0.2917 - val_loss: 0.1972 - val_acc: 0.3235\n",
            "Epoch 3/2000\n",
            "1/1 [==============================] - 0s 42ms/step - loss: 0.0884 - acc: 0.3021 - val_loss: 0.1973 - val_acc: 0.3186\n",
            "Epoch 4/2000\n",
            "1/1 [==============================] - 0s 34ms/step - loss: 0.0882 - acc: 0.3021 - val_loss: 0.1974 - val_acc: 0.3186\n",
            "Epoch 5/2000\n",
            "1/1 [==============================] - 0s 37ms/step - loss: 0.0884 - acc: 0.2917 - val_loss: 0.1973 - val_acc: 0.3186\n",
            "Epoch 6/2000\n",
            "1/1 [==============================] - 0s 35ms/step - loss: 0.0884 - acc: 0.2917 - val_loss: 0.1973 - val_acc: 0.3284\n",
            "Epoch 7/2000\n",
            "1/1 [==============================] - 0s 35ms/step - loss: 0.0886 - acc: 0.2917 - val_loss: 0.1972 - val_acc: 0.3284\n",
            "Epoch 8/2000\n",
            "1/1 [==============================] - 0s 35ms/step - loss: 0.0886 - acc: 0.3021 - val_loss: 0.1970 - val_acc: 0.3235\n",
            "Epoch 9/2000\n",
            "1/1 [==============================] - 0s 38ms/step - loss: 0.0884 - acc: 0.2917 - val_loss: 0.1970 - val_acc: 0.3186\n",
            "Epoch 10/2000\n",
            "1/1 [==============================] - 0s 36ms/step - loss: 0.0882 - acc: 0.2917 - val_loss: 0.1970 - val_acc: 0.3186\n",
            "Epoch 11/2000\n",
            "1/1 [==============================] - 0s 35ms/step - loss: 0.0883 - acc: 0.2917 - val_loss: 0.1969 - val_acc: 0.3186\n",
            "Epoch 12/2000\n",
            "1/1 [==============================] - 0s 36ms/step - loss: 0.0883 - acc: 0.3021 - val_loss: 0.1970 - val_acc: 0.3186\n",
            "Epoch 13/2000\n",
            "1/1 [==============================] - 0s 36ms/step - loss: 0.0883 - acc: 0.2917 - val_loss: 0.1971 - val_acc: 0.3186\n",
            "Epoch 14/2000\n",
            "1/1 [==============================] - 0s 41ms/step - loss: 0.0883 - acc: 0.2917 - val_loss: 0.1971 - val_acc: 0.3186\n",
            "Epoch 15/2000\n",
            "1/1 [==============================] - 0s 36ms/step - loss: 0.0880 - acc: 0.2917 - val_loss: 0.1972 - val_acc: 0.3235\n",
            "Epoch 16/2000\n",
            "1/1 [==============================] - 0s 35ms/step - loss: 0.0882 - acc: 0.2812 - val_loss: 0.1971 - val_acc: 0.3235\n",
            "Epoch 17/2000\n",
            "1/1 [==============================] - 0s 36ms/step - loss: 0.0881 - acc: 0.3125 - val_loss: 0.1970 - val_acc: 0.3235\n",
            "Epoch 18/2000\n",
            "1/1 [==============================] - 0s 35ms/step - loss: 0.0881 - acc: 0.3021 - val_loss: 0.1968 - val_acc: 0.3235\n",
            "Epoch 19/2000\n",
            "1/1 [==============================] - 0s 37ms/step - loss: 0.0883 - acc: 0.2812 - val_loss: 0.1968 - val_acc: 0.3186\n",
            "Epoch 20/2000\n",
            "1/1 [==============================] - 0s 36ms/step - loss: 0.0881 - acc: 0.2917 - val_loss: 0.1968 - val_acc: 0.3186\n",
            "Epoch 21/2000\n",
            "1/1 [==============================] - 0s 37ms/step - loss: 0.0881 - acc: 0.2917 - val_loss: 0.1969 - val_acc: 0.3235\n",
            "Epoch 22/2000\n",
            "1/1 [==============================] - 0s 35ms/step - loss: 0.0883 - acc: 0.3021 - val_loss: 0.1969 - val_acc: 0.3235\n",
            "Epoch 23/2000\n",
            "1/1 [==============================] - 0s 35ms/step - loss: 0.0882 - acc: 0.3021 - val_loss: 0.1969 - val_acc: 0.3137\n",
            "Epoch 24/2000\n",
            "1/1 [==============================] - 0s 35ms/step - loss: 0.0881 - acc: 0.2917 - val_loss: 0.1969 - val_acc: 0.3186\n",
            "Epoch 25/2000\n",
            "1/1 [==============================] - 0s 36ms/step - loss: 0.0882 - acc: 0.3021 - val_loss: 0.1969 - val_acc: 0.3235\n",
            "Epoch 26/2000\n",
            "1/1 [==============================] - 0s 36ms/step - loss: 0.0882 - acc: 0.3021 - val_loss: 0.1968 - val_acc: 0.3235\n",
            "Epoch 27/2000\n",
            "1/1 [==============================] - 0s 34ms/step - loss: 0.0883 - acc: 0.3021 - val_loss: 0.1968 - val_acc: 0.3235\n",
            "Epoch 28/2000\n",
            "1/1 [==============================] - 0s 41ms/step - loss: 0.0881 - acc: 0.2917 - val_loss: 0.1967 - val_acc: 0.3235\n",
            "Epoch 29/2000\n",
            "1/1 [==============================] - 0s 37ms/step - loss: 0.0882 - acc: 0.3021 - val_loss: 0.1967 - val_acc: 0.3235\n",
            "Epoch 30/2000\n",
            "1/1 [==============================] - 0s 44ms/step - loss: 0.0880 - acc: 0.2917 - val_loss: 0.1968 - val_acc: 0.3235\n",
            "Epoch 31/2000\n",
            "1/1 [==============================] - 0s 39ms/step - loss: 0.0880 - acc: 0.2917 - val_loss: 0.1969 - val_acc: 0.3235\n",
            "Epoch 32/2000\n",
            "1/1 [==============================] - 0s 39ms/step - loss: 0.0881 - acc: 0.2812 - val_loss: 0.1969 - val_acc: 0.3235\n",
            "Epoch 33/2000\n",
            "1/1 [==============================] - 0s 36ms/step - loss: 0.0882 - acc: 0.2812 - val_loss: 0.1969 - val_acc: 0.3284\n",
            "Epoch 34/2000\n",
            "1/1 [==============================] - 0s 35ms/step - loss: 0.0882 - acc: 0.2917 - val_loss: 0.1968 - val_acc: 0.3284\n",
            "Epoch 35/2000\n",
            "1/1 [==============================] - 0s 36ms/step - loss: 0.0884 - acc: 0.2917 - val_loss: 0.1967 - val_acc: 0.3284\n",
            "Epoch 36/2000\n",
            "1/1 [==============================] - 0s 37ms/step - loss: 0.0880 - acc: 0.3021 - val_loss: 0.1965 - val_acc: 0.3284\n",
            "Epoch 37/2000\n",
            "1/1 [==============================] - 0s 36ms/step - loss: 0.0883 - acc: 0.3125 - val_loss: 0.1964 - val_acc: 0.3333\n",
            "Epoch 38/2000\n",
            "1/1 [==============================] - 0s 37ms/step - loss: 0.0879 - acc: 0.2917 - val_loss: 0.1964 - val_acc: 0.3284\n",
            "Epoch 39/2000\n",
            "1/1 [==============================] - 0s 35ms/step - loss: 0.0883 - acc: 0.2917 - val_loss: 0.1965 - val_acc: 0.3284\n",
            "Epoch 40/2000\n",
            "1/1 [==============================] - 0s 43ms/step - loss: 0.0882 - acc: 0.2812 - val_loss: 0.1967 - val_acc: 0.3235\n",
            "Epoch 41/2000\n",
            "1/1 [==============================] - 0s 36ms/step - loss: 0.0880 - acc: 0.2917 - val_loss: 0.1968 - val_acc: 0.3235\n",
            "Epoch 42/2000\n",
            "1/1 [==============================] - 0s 36ms/step - loss: 0.0883 - acc: 0.2812 - val_loss: 0.1968 - val_acc: 0.3235\n",
            "Epoch 43/2000\n",
            "1/1 [==============================] - 0s 36ms/step - loss: 0.0881 - acc: 0.3021 - val_loss: 0.1968 - val_acc: 0.3284\n",
            "Epoch 44/2000\n",
            "1/1 [==============================] - 0s 36ms/step - loss: 0.0882 - acc: 0.2917 - val_loss: 0.1968 - val_acc: 0.3284\n",
            "Epoch 45/2000\n",
            "1/1 [==============================] - 0s 36ms/step - loss: 0.0878 - acc: 0.3125 - val_loss: 0.1967 - val_acc: 0.3284\n",
            "Epoch 46/2000\n",
            "1/1 [==============================] - 0s 37ms/step - loss: 0.0879 - acc: 0.2917 - val_loss: 0.1965 - val_acc: 0.3333\n",
            "Epoch 47/2000\n",
            "1/1 [==============================] - 0s 37ms/step - loss: 0.0881 - acc: 0.3021 - val_loss: 0.1964 - val_acc: 0.3333\n",
            "Epoch 48/2000\n",
            "1/1 [==============================] - 0s 37ms/step - loss: 0.0880 - acc: 0.2812 - val_loss: 0.1964 - val_acc: 0.3333\n",
            "CPU times: user 4.46 s, sys: 202 ms, total: 4.67 s\n",
            "Wall time: 4.31 s\n"
          ],
          "name": "stdout"
        }
      ]
    },
    {
      "cell_type": "code",
      "metadata": {
        "colab": {
          "base_uri": "https://localhost:8080/"
        },
        "id": "-l9vS6HMsIbw",
        "outputId": "2d5532a3-bc4f-4de7-df07-ec14f7301fde"
      },
      "source": [
        "# Evaluate model\n",
        "X_te = X[test_mask]\n",
        "A_te = A[test_mask,:][:,test_mask]\n",
        "y_te = labels_encoded[test_mask]\n",
        "\n",
        "y_pred = model.predict([X_te, A_te], batch_size=N)\n",
        "report = classification_report(np.argmax(y_te,axis=1), np.argmax(y_pred,axis=1), target_names=classes)\n",
        "print('GCN Classification Report: \\n {}'.format(report))"
      ],
      "execution_count": null,
      "outputs": [
        {
          "output_type": "stream",
          "text": [
            "GCN Classification Report: \n",
            "               precision    recall  f1-score   support\n",
            "\n",
            "           0       0.00      0.00      0.00       217\n",
            "           1       0.13      0.14      0.14       210\n",
            "           2       0.26      0.33      0.29       211\n",
            "           3       0.34      0.68      0.46       215\n",
            "           4       0.33      0.59      0.42       206\n",
            "           5       0.28      0.22      0.24       208\n",
            "           6       0.00      0.00      0.00       217\n",
            "           7       0.36      0.42      0.39       216\n",
            "\n",
            "    accuracy                           0.30      1700\n",
            "   macro avg       0.21      0.30      0.24      1700\n",
            "weighted avg       0.21      0.30      0.24      1700\n",
            "\n"
          ],
          "name": "stdout"
        },
        {
          "output_type": "stream",
          "text": [
            "/usr/local/lib/python3.6/dist-packages/sklearn/metrics/_classification.py:1272: UndefinedMetricWarning: Precision and F-score are ill-defined and being set to 0.0 in labels with no predicted samples. Use `zero_division` parameter to control this behavior.\n",
            "  _warn_prf(average, modifier, msg_start, len(result))\n"
          ],
          "name": "stderr"
        }
      ]
    },
    {
      "cell_type": "code",
      "metadata": {
        "id": "lKunHtj3mt8V",
        "colab": {
          "base_uri": "https://localhost:8080/",
          "height": 592
        },
        "outputId": "5347c774-9781-427f-9f5a-5fbb6c3339f4"
      },
      "source": [
        "#Get the hidden layer representation after the first GCN layer\n",
        "layer_outputs = [layer.output for layer in model.layers]\n",
        "activation_model = Model(inputs=model.input, outputs=layer_outputs)\n",
        "activations = activation_model.predict([X,A],batch_size=N)\n",
        "\n",
        "#Get t-SNE Representation\n",
        "x_tsne = TSNE(n_components=2).fit_transform(activations[3]) \n",
        "\n",
        "def plot_tSNE(labels_encoded,x_tsne):\n",
        "    color_map = np.argmax(labels_encoded, axis=1)\n",
        "    plt.figure(figsize=(10,10))\n",
        "    for cl in range(num_classes):\n",
        "        indices = np.where(color_map==cl)\n",
        "        indices = indices[0]\n",
        "        plt.scatter(x_tsne[indices,0], x_tsne[indices, 1], label=cl)\n",
        "    plt.legend()\n",
        "    plt.show()\n",
        "    \n",
        "plot_tSNE(labels_encoded,x_tsne)"
      ],
      "execution_count": null,
      "outputs": [
        {
          "output_type": "display_data",
          "data": {
            "image/png": "[encoded data removed]",
            "text/plain": [
              "<Figure size 720x720 with 1 Axes>"
            ]
          },
          "metadata": {
            "tags": [],
            "needs_background": "light"
          }
        }
      ]
    },
    {
      "cell_type": "code",
      "metadata": {
        "id": "6vTKnEaRtDlg"
      },
      "source": [
        ""
      ],
      "execution_count": null,
      "outputs": []
    }
  ]
}